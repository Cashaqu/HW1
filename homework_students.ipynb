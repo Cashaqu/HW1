{
 "cells": [
  {
   "cell_type": "markdown",
   "metadata": {},
   "source": [
    "## Практическое домашнее задание на проверку знаний по модулю 1.\n",
    "\n",
    "\n",
    "##### Тема тестирования - базовый эксплоративный анализ и аналитическое мышление. Вам будет предоставлен датасет и 25 вопросов касаемо данного датасета. Ваша задача - подумать как найти ответы на поставленные вопросы ниже. За каждый правильно оформленный и предоставленный ответ начисляется *4 балла*.\n",
    "\n",
    "#### Ответ на решение присылать ссылкой на ваш гитхаб репозиторий на почту maratmovlamov2017@gmail.com\n",
    "\n",
    "#### Сроки выполнения практического домашнего задания - ровно 7 календарных дней (168 часов) с момента публикации в группе. Прошу приступать к решению задач порционно. Прошу повторить дополнительные материалы, предоставленные в качестве самостоятельного изучения в конце презентаций, они вам понадобятся.\n",
    "\n",
    "\n",
    "\n",
    "#### Критерии оценки присланного решения:\n",
    "\n",
    "* Правильность полученного ответа - на каждый поставленный вопрос есть один и только один правильный ответ. В случае неправильного ответа на поставленный вопрос, предоставленный ответ на него считается проваленным, даже если код написан правильно и красиво. Общее количество баллов, которые можно получить ответив на все вопросы верно - 25 * 4 = 100 баллов, которые шкалируются к 10-ти бальной шкале.\n",
    "\n",
    "___\n",
    "\n",
    "* Аккуратность, правильность и читаемость кода - старайтесь писать код без повторного использования методов и ненужных переменных (помните про принцип DRY - don't repeat yourself). Плюсом будет, если ваш код будет упакован в лаконичную и красиво написанную функцию. Если вся работа выполненна аккуратно, без спагетти кода, к общему результату работы начисляется 1 балл.\n",
    "\n",
    "---\n",
    "\n",
    "* На предоставленные вопросы, дописывается комментарий для проверки вашего мышления и поиска ответа в виде Markdown комментария. В случае если комментарий на поставленный вопрос не предоставлен снимается 0.1 балл за каждый такой вопрос. То есть общий штраф за отсутсвие комментариев по всем вопросам 25 * -0.1 =  -2.5 балла.\n",
    "\n",
    "\n",
    "#### Удачи и да прибудет с Вами сила :)\n",
    "\n"
   ]
  },
  {
   "cell_type": "code",
   "execution_count": 2,
   "metadata": {
    "ExecuteTime": {
     "end_time": "2023-05-22T09:51:30.639118200Z",
     "start_time": "2023-05-22T09:51:30.360510500Z"
    }
   },
   "outputs": [],
   "source": [
    "import pandas as pd\n",
    "import numpy as np"
   ]
  },
  {
   "cell_type": "code",
   "execution_count": 3,
   "metadata": {
    "ExecuteTime": {
     "end_time": "2023-05-22T09:51:31.599273500Z",
     "start_time": "2023-05-22T09:51:31.113968400Z"
    }
   },
   "outputs": [],
   "source": [
    "df = pd.read_csv(\"./dataset/Spotify_Youtube.csv\")"
   ]
  },
  {
   "cell_type": "code",
   "execution_count": 45,
   "metadata": {
    "ExecuteTime": {
     "end_time": "2023-05-22T09:51:32.243645600Z",
     "start_time": "2023-05-22T09:51:32.227638100Z"
    },
    "scrolled": true
   },
   "outputs": [
    {
     "data": {
      "text/html": [
       "<div>\n",
       "<style scoped>\n",
       "    .dataframe tbody tr th:only-of-type {\n",
       "        vertical-align: middle;\n",
       "    }\n",
       "\n",
       "    .dataframe tbody tr th {\n",
       "        vertical-align: top;\n",
       "    }\n",
       "\n",
       "    .dataframe thead th {\n",
       "        text-align: right;\n",
       "    }\n",
       "</style>\n",
       "<table border=\"1\" class=\"dataframe\">\n",
       "  <thead>\n",
       "    <tr style=\"text-align: right;\">\n",
       "      <th></th>\n",
       "      <th>Unnamed: 0</th>\n",
       "      <th>Artist</th>\n",
       "      <th>Url_spotify</th>\n",
       "      <th>Track</th>\n",
       "      <th>Album</th>\n",
       "      <th>Album_type</th>\n",
       "      <th>Uri</th>\n",
       "      <th>Danceability</th>\n",
       "      <th>Energy</th>\n",
       "      <th>Key</th>\n",
       "      <th>...</th>\n",
       "      <th>Url_youtube</th>\n",
       "      <th>Title</th>\n",
       "      <th>Channel</th>\n",
       "      <th>Views</th>\n",
       "      <th>Likes</th>\n",
       "      <th>Comments</th>\n",
       "      <th>Description</th>\n",
       "      <th>Licensed</th>\n",
       "      <th>official_video</th>\n",
       "      <th>Stream</th>\n",
       "    </tr>\n",
       "  </thead>\n",
       "  <tbody>\n",
       "    <tr>\n",
       "      <th>0</th>\n",
       "      <td>0</td>\n",
       "      <td>Gorillaz</td>\n",
       "      <td>https://open.spotify.com/artist/3AA28KZvwAUcZu...</td>\n",
       "      <td>Feel Good Inc.</td>\n",
       "      <td>Demon Days</td>\n",
       "      <td>album</td>\n",
       "      <td>spotify:track:0d28khcov6AiegSCpG5TuT</td>\n",
       "      <td>0.818</td>\n",
       "      <td>0.705</td>\n",
       "      <td>6.0</td>\n",
       "      <td>...</td>\n",
       "      <td>https://www.youtube.com/watch?v=HyHNuVaZJ-k</td>\n",
       "      <td>Gorillaz - Feel Good Inc. (Official Video)</td>\n",
       "      <td>Gorillaz</td>\n",
       "      <td>693555221.0</td>\n",
       "      <td>6220896.0</td>\n",
       "      <td>169907.0</td>\n",
       "      <td>Official HD Video for Gorillaz' fantastic trac...</td>\n",
       "      <td>True</td>\n",
       "      <td>True</td>\n",
       "      <td>1.040235e+09</td>\n",
       "    </tr>\n",
       "    <tr>\n",
       "      <th>1</th>\n",
       "      <td>1</td>\n",
       "      <td>Gorillaz</td>\n",
       "      <td>https://open.spotify.com/artist/3AA28KZvwAUcZu...</td>\n",
       "      <td>Rhinestone Eyes</td>\n",
       "      <td>Plastic Beach</td>\n",
       "      <td>album</td>\n",
       "      <td>spotify:track:1foMv2HQwfQ2vntFf9HFeG</td>\n",
       "      <td>0.676</td>\n",
       "      <td>0.703</td>\n",
       "      <td>8.0</td>\n",
       "      <td>...</td>\n",
       "      <td>https://www.youtube.com/watch?v=yYDmaexVHic</td>\n",
       "      <td>Gorillaz - Rhinestone Eyes [Storyboard Film] (...</td>\n",
       "      <td>Gorillaz</td>\n",
       "      <td>72011645.0</td>\n",
       "      <td>1079128.0</td>\n",
       "      <td>31003.0</td>\n",
       "      <td>The official video for Gorillaz - Rhinestone E...</td>\n",
       "      <td>True</td>\n",
       "      <td>True</td>\n",
       "      <td>3.100837e+08</td>\n",
       "    </tr>\n",
       "    <tr>\n",
       "      <th>2</th>\n",
       "      <td>2</td>\n",
       "      <td>Gorillaz</td>\n",
       "      <td>https://open.spotify.com/artist/3AA28KZvwAUcZu...</td>\n",
       "      <td>New Gold (feat. Tame Impala and Bootie Brown)</td>\n",
       "      <td>New Gold (feat. Tame Impala and Bootie Brown)</td>\n",
       "      <td>single</td>\n",
       "      <td>spotify:track:64dLd6rVqDLtkXFYrEUHIU</td>\n",
       "      <td>0.695</td>\n",
       "      <td>0.923</td>\n",
       "      <td>1.0</td>\n",
       "      <td>...</td>\n",
       "      <td>https://www.youtube.com/watch?v=qJa-VFwPpYA</td>\n",
       "      <td>Gorillaz - New Gold ft. Tame Impala &amp; Bootie B...</td>\n",
       "      <td>Gorillaz</td>\n",
       "      <td>8435055.0</td>\n",
       "      <td>282142.0</td>\n",
       "      <td>7399.0</td>\n",
       "      <td>Gorillaz - New Gold ft. Tame Impala &amp; Bootie B...</td>\n",
       "      <td>True</td>\n",
       "      <td>True</td>\n",
       "      <td>6.306347e+07</td>\n",
       "    </tr>\n",
       "    <tr>\n",
       "      <th>3</th>\n",
       "      <td>3</td>\n",
       "      <td>Gorillaz</td>\n",
       "      <td>https://open.spotify.com/artist/3AA28KZvwAUcZu...</td>\n",
       "      <td>On Melancholy Hill</td>\n",
       "      <td>Plastic Beach</td>\n",
       "      <td>album</td>\n",
       "      <td>spotify:track:0q6LuUqGLUiCPP1cbdwFs3</td>\n",
       "      <td>0.689</td>\n",
       "      <td>0.739</td>\n",
       "      <td>2.0</td>\n",
       "      <td>...</td>\n",
       "      <td>https://www.youtube.com/watch?v=04mfKJWDSzI</td>\n",
       "      <td>Gorillaz - On Melancholy Hill (Official Video)</td>\n",
       "      <td>Gorillaz</td>\n",
       "      <td>211754952.0</td>\n",
       "      <td>1788577.0</td>\n",
       "      <td>55229.0</td>\n",
       "      <td>Follow Gorillaz online:\\nhttp://gorillaz.com \\...</td>\n",
       "      <td>True</td>\n",
       "      <td>True</td>\n",
       "      <td>4.346636e+08</td>\n",
       "    </tr>\n",
       "    <tr>\n",
       "      <th>4</th>\n",
       "      <td>4</td>\n",
       "      <td>Gorillaz</td>\n",
       "      <td>https://open.spotify.com/artist/3AA28KZvwAUcZu...</td>\n",
       "      <td>Clint Eastwood</td>\n",
       "      <td>Gorillaz</td>\n",
       "      <td>album</td>\n",
       "      <td>spotify:track:7yMiX7n9SBvadzox8T5jzT</td>\n",
       "      <td>0.663</td>\n",
       "      <td>0.694</td>\n",
       "      <td>10.0</td>\n",
       "      <td>...</td>\n",
       "      <td>https://www.youtube.com/watch?v=1V_xRb0x9aw</td>\n",
       "      <td>Gorillaz - Clint Eastwood (Official Video)</td>\n",
       "      <td>Gorillaz</td>\n",
       "      <td>618480958.0</td>\n",
       "      <td>6197318.0</td>\n",
       "      <td>155930.0</td>\n",
       "      <td>The official music video for Gorillaz - Clint ...</td>\n",
       "      <td>True</td>\n",
       "      <td>True</td>\n",
       "      <td>6.172597e+08</td>\n",
       "    </tr>\n",
       "  </tbody>\n",
       "</table>\n",
       "<p>5 rows × 28 columns</p>\n",
       "</div>"
      ],
      "text/plain": [
       "   Unnamed: 0    Artist                                        Url_spotify   \n",
       "0           0  Gorillaz  https://open.spotify.com/artist/3AA28KZvwAUcZu...  \\\n",
       "1           1  Gorillaz  https://open.spotify.com/artist/3AA28KZvwAUcZu...   \n",
       "2           2  Gorillaz  https://open.spotify.com/artist/3AA28KZvwAUcZu...   \n",
       "3           3  Gorillaz  https://open.spotify.com/artist/3AA28KZvwAUcZu...   \n",
       "4           4  Gorillaz  https://open.spotify.com/artist/3AA28KZvwAUcZu...   \n",
       "\n",
       "                                           Track   \n",
       "0                                 Feel Good Inc.  \\\n",
       "1                                Rhinestone Eyes   \n",
       "2  New Gold (feat. Tame Impala and Bootie Brown)   \n",
       "3                             On Melancholy Hill   \n",
       "4                                 Clint Eastwood   \n",
       "\n",
       "                                           Album Album_type   \n",
       "0                                     Demon Days      album  \\\n",
       "1                                  Plastic Beach      album   \n",
       "2  New Gold (feat. Tame Impala and Bootie Brown)     single   \n",
       "3                                  Plastic Beach      album   \n",
       "4                                       Gorillaz      album   \n",
       "\n",
       "                                    Uri  Danceability  Energy   Key  ...   \n",
       "0  spotify:track:0d28khcov6AiegSCpG5TuT         0.818   0.705   6.0  ...  \\\n",
       "1  spotify:track:1foMv2HQwfQ2vntFf9HFeG         0.676   0.703   8.0  ...   \n",
       "2  spotify:track:64dLd6rVqDLtkXFYrEUHIU         0.695   0.923   1.0  ...   \n",
       "3  spotify:track:0q6LuUqGLUiCPP1cbdwFs3         0.689   0.739   2.0  ...   \n",
       "4  spotify:track:7yMiX7n9SBvadzox8T5jzT         0.663   0.694  10.0  ...   \n",
       "\n",
       "                                   Url_youtube   \n",
       "0  https://www.youtube.com/watch?v=HyHNuVaZJ-k  \\\n",
       "1  https://www.youtube.com/watch?v=yYDmaexVHic   \n",
       "2  https://www.youtube.com/watch?v=qJa-VFwPpYA   \n",
       "3  https://www.youtube.com/watch?v=04mfKJWDSzI   \n",
       "4  https://www.youtube.com/watch?v=1V_xRb0x9aw   \n",
       "\n",
       "                                               Title   Channel        Views   \n",
       "0         Gorillaz - Feel Good Inc. (Official Video)  Gorillaz  693555221.0  \\\n",
       "1  Gorillaz - Rhinestone Eyes [Storyboard Film] (...  Gorillaz   72011645.0   \n",
       "2  Gorillaz - New Gold ft. Tame Impala & Bootie B...  Gorillaz    8435055.0   \n",
       "3     Gorillaz - On Melancholy Hill (Official Video)  Gorillaz  211754952.0   \n",
       "4         Gorillaz - Clint Eastwood (Official Video)  Gorillaz  618480958.0   \n",
       "\n",
       "       Likes  Comments                                        Description   \n",
       "0  6220896.0  169907.0  Official HD Video for Gorillaz' fantastic trac...  \\\n",
       "1  1079128.0   31003.0  The official video for Gorillaz - Rhinestone E...   \n",
       "2   282142.0    7399.0  Gorillaz - New Gold ft. Tame Impala & Bootie B...   \n",
       "3  1788577.0   55229.0  Follow Gorillaz online:\\nhttp://gorillaz.com \\...   \n",
       "4  6197318.0  155930.0  The official music video for Gorillaz - Clint ...   \n",
       "\n",
       "   Licensed official_video        Stream  \n",
       "0      True           True  1.040235e+09  \n",
       "1      True           True  3.100837e+08  \n",
       "2      True           True  6.306347e+07  \n",
       "3      True           True  4.346636e+08  \n",
       "4      True           True  6.172597e+08  \n",
       "\n",
       "[5 rows x 28 columns]"
      ]
     },
     "execution_count": 45,
     "metadata": {},
     "output_type": "execute_result"
    }
   ],
   "source": [
    "df.head()"
   ]
  },
  {
   "cell_type": "markdown",
   "metadata": {},
   "source": [
    "### Структура датасета:\n",
    "\n",
    "----\n",
    "\n",
    "26 признаков, описание которых следует ниже:\n",
    "\n",
    "\n",
    "\n",
    "- **Track**: name of the song, as visible on the Spotify platform.\n",
    "- **Artist**: name of the artist.\n",
    "- **Url_spotify**: the Url of the artist.\n",
    "- **Album**: the album in wich the song is contained on Spotify.\n",
    "- **Album_type**: indicates if the song is relesead on Spotify as a single or contained in an album.\n",
    "- **Uri**: a spotify link used to find the song through the API.\n",
    "- **Danceability**: describes how suitable a track is for dancing based on a combination of musical elements including tempo, rhythm stability, beat strength, and overall regularity. A value of 0.0 is least danceable and 1.0 is most danceable.\n",
    "- **Energy:** is a measure from 0.0 to 1.0 and represents a perceptual measure of intensity and activity. Typically, energetic tracks feel fast, loud, and noisy. For example, death metal has high energy, while a Bach prelude scores low on the scale. Perceptual features contributing to this attribute include dynamic range, perceived loudness, timbre, onset rate, and general entropy.\n",
    "- **Key**: the key the track is in. Integers map to pitches using standard Pitch Class notation. E.g. 0 = C, 1 = C♯/D♭, 2 = D, and so on. If no key was detected, the value is -1.\n",
    "- **Loudness**: the overall loudness of a track in decibels (dB). Loudness values are averaged across the entire track and are useful for comparing relative loudness of tracks. Loudness is the quality of a sound that is the primary psychological correlate of physical strength (amplitude). Values typically range between -60 and 0 db.\n",
    "- **Speechiness**: detects the presence of spoken words in a track. The more exclusively speech-like the recording (e.g. talk show, audio book, poetry), the closer to 1.0 the attribute value. Values above 0.66 describe tracks that are probably made entirely of spoken words. Values between 0.33 and 0.66 describe tracks that may contain both music and speech, either in sections or layered, including such cases as rap music. Values below 0.33 most likely represent music and other non-speech-like tracks.\n",
    "- **Acousticness**: a confidence measure from 0.0 to 1.0 of whether the track is acoustic. 1.0 represents high confidence the track is acoustic.\n",
    "- **Instrumentalness**: predicts whether a track contains no vocals. \"Ooh\" and \"aah\" sounds are treated as instrumental in this context. Rap or spoken word tracks are clearly \"vocal\". The closer the instrumentalness value is to 1.0, the greater likelihood the track contains no vocal content. Values above 0.5 are intended to represent instrumental tracks, but confidence is higher as the value approaches 1.0.\n",
    "- **Liveness**: detects the presence of an audience in the recording. Higher liveness values represent an increased probability that the track was performed live. A value above 0.8 provides strong likelihood that the track is live.\n",
    "- **Valence**: a measure from 0.0 to 1.0 describing the musical positiveness conveyed by a track. Tracks with high valence sound more positive (e.g. happy, cheerful, euphoric), while tracks with low valence sound more negative (e.g. sad, depressed, angry).\n",
    "- **Tempo**: the overall estimated tempo of a track in beats per minute (BPM). In musical terminology, tempo is the speed or pace of a given piece and derives directly from the average beat duration.\n",
    "- **Duration_ms**: the duration of the track in milliseconds.\n",
    "- **Stream**: number of streams of the song on Spotify.\n",
    "- **Url_youtube**: url of the video linked to the song on Youtube, if it have any.\n",
    "- **Title**: title of the videoclip on youtube.\n",
    "- **Channel**: name of the channel that have published the video.\n",
    "- **Views**: number of views.\n",
    "- **Likes**: number of likes.\n",
    "- **Comments**: number of comments.\n",
    "- **Description**: description of the video on Youtube.\n",
    "- **Licensed**: Indicates whether the video represents licensed content, which means that the content was uploaded to a channel linked to a YouTube content partner and then claimed by that partner. official_video: boolean value that indicates if the video found is the official video of the song."
   ]
  },
  {
   "cell_type": "markdown",
   "metadata": {},
   "source": [
    "### Вопросы:"
   ]
  },
  {
   "cell_type": "markdown",
   "metadata": {},
   "source": [
    "#### 1. Какая песня является наиболее транслируемой в датасете (признак Stream)?"
   ]
  },
  {
   "cell_type": "markdown",
   "metadata": {},
   "source": [
    "Необходимо найти максимальное значение в колонке Stream"
   ]
  },
  {
   "cell_type": "code",
   "execution_count": 92,
   "metadata": {},
   "outputs": [
    {
     "data": {
      "text/plain": [
       "Track     Blinding Lights\n",
       "Artist         The Weeknd\n",
       "Name: 15250, dtype: object"
      ]
     },
     "execution_count": 92,
     "metadata": {},
     "output_type": "execute_result"
    }
   ],
   "source": [
    "#    через idxmax ищем максимальное по колонке Stream, выводим значение по индексу\n",
    "df.loc[df['Stream'].idxmax()][['Track', 'Artist']]"
   ]
  },
  {
   "cell_type": "markdown",
   "metadata": {},
   "source": [
    "Ответ: Наиболее транслируемой песней в Spotify является песня: \n",
    "\n",
    "\"Blinding Lights\"- The Weeknd"
   ]
  },
  {
   "cell_type": "markdown",
   "metadata": {},
   "source": [
    "#### 2. У какого исполнителя больше всего просмотров на YouTube?"
   ]
  },
  {
   "cell_type": "markdown",
   "metadata": {},
   "source": [
    "Нужно сгруппировать по исполнителям - так мы получим уникальных исполнителей.\n",
    "Затем аггрегировать по значениям Views - складываем все просмотры видео, у которых один и тот же исполнитель.\n",
    "И по максимальному Views выводим исполнителя."
   ]
  },
  {
   "cell_type": "code",
   "execution_count": 89,
   "metadata": {},
   "outputs": [
    {
     "data": {
      "text/plain": [
       "'Ed Sheeran'"
      ]
     },
     "execution_count": 89,
     "metadata": {},
     "output_type": "execute_result"
    }
   ],
   "source": [
    "#    группируем фрейм по исполнителям, через agg считаем сумму просмотров на youtube\n",
    "df_gp_artist = df.groupby('Artist').agg({'Views': 'sum'})\n",
    "\n",
    "#    ищем максимальное по Views\n",
    "df_gp_artist['Views'].idxmax()"
   ]
  },
  {
   "cell_type": "markdown",
   "metadata": {},
   "source": [
    "Ответ: Больше всего просмотров на YouTube имеет:\n",
    "\n",
    "Ed Sheeran"
   ]
  },
  {
   "cell_type": "markdown",
   "metadata": {},
   "source": [
    "#### 3. Какова средняя продолжительность всех песен в минутах?"
   ]
  },
  {
   "cell_type": "markdown",
   "metadata": {},
   "source": [
    "Необходимо найти среднее по колонке Duration_ms, затем перевести в минуты"
   ]
  },
  {
   "cell_type": "code",
   "execution_count": 97,
   "metadata": {},
   "outputs": [
    {
     "name": "stdout",
     "output_type": "stream",
     "text": [
      "Средняя продолжительноcть песен: 3.7453 минут\n"
     ]
    }
   ],
   "source": [
    "#    ищем среднее по колонке Duration_ms, переводим в минуты\n",
    "mean_dur = df['Duration_ms'].mean() / 1000 / 60\n",
    "\n",
    "print(f'Средняя продолжительноcть песен:{mean_dur: .4f} минут')"
   ]
  },
  {
   "cell_type": "markdown",
   "metadata": {},
   "source": [
    "Ответ: средння продолжительность песен - примерно 3.75 минут или 3 минуты и 45 секунд"
   ]
  },
  {
   "cell_type": "markdown",
   "metadata": {},
   "source": [
    "#### 4. Какая нота (Key) чаще всего используется в песнях?"
   ]
  },
  {
   "cell_type": "markdown",
   "metadata": {},
   "source": [
    "Самое частое для значение тональности можно найти через моду по колонке Key."
   ]
  },
  {
   "cell_type": "code",
   "execution_count": 106,
   "metadata": {},
   "outputs": [
    {
     "data": {
      "text/plain": [
       "0    0.0\n",
       "Name: Key, dtype: float64"
      ]
     },
     "execution_count": 106,
     "metadata": {},
     "output_type": "execute_result"
    }
   ],
   "source": [
    "#    ищем моду в Key\n",
    "df['Key'].mode()"
   ]
  },
  {
   "cell_type": "markdown",
   "metadata": {},
   "source": [
    "Ответ: Самая частая нота в песнях - 0, она же \"До\", она же \"C\""
   ]
  },
  {
   "cell_type": "markdown",
   "metadata": {},
   "source": [
    "#### 5. Какая самая популярная песня на YouTube?"
   ]
  },
  {
   "cell_type": "markdown",
   "metadata": {},
   "source": [
    "Вероятно, имеется ввиду песня с бóльшим числом просмотром. В таком случае ищем максимальное значение в Views"
   ]
  },
  {
   "cell_type": "code",
   "execution_count": 107,
   "metadata": {},
   "outputs": [
    {
     "data": {
      "text/plain": [
       "Track      Despacito\n",
       "Artist    Luis Fonsi\n",
       "Name: 1147, dtype: object"
      ]
     },
     "execution_count": 107,
     "metadata": {},
     "output_type": "execute_result"
    }
   ],
   "source": [
    "#    ищем максимальное Views\n",
    "df.loc[df['Views'].idxmax()][['Track', 'Artist']]"
   ]
  },
  {
   "cell_type": "markdown",
   "metadata": {},
   "source": [
    "Ответ: Самая популярная песня на YouTube:\n",
    "\n",
    "\"Despacito\" - Luis Fonsi"
   ]
  },
  {
   "cell_type": "markdown",
   "metadata": {},
   "source": [
    "#### 6. У какой песни самый высокий балл за танцевальность (danceability )?"
   ]
  },
  {
   "cell_type": "markdown",
   "metadata": {},
   "source": [
    "В первую очередь нам нужно найти максимальное значение для Danceability.\n",
    "Затем искать по этому значению треки, которые ему соответствуют."
   ]
  },
  {
   "cell_type": "code",
   "execution_count": 104,
   "metadata": {},
   "outputs": [
    {
     "data": {
      "text/html": [
       "<div>\n",
       "<style scoped>\n",
       "    .dataframe tbody tr th:only-of-type {\n",
       "        vertical-align: middle;\n",
       "    }\n",
       "\n",
       "    .dataframe tbody tr th {\n",
       "        vertical-align: top;\n",
       "    }\n",
       "\n",
       "    .dataframe thead th {\n",
       "        text-align: right;\n",
       "    }\n",
       "</style>\n",
       "<table border=\"1\" class=\"dataframe\">\n",
       "  <thead>\n",
       "    <tr style=\"text-align: right;\">\n",
       "      <th></th>\n",
       "      <th>Track</th>\n",
       "      <th>Artist</th>\n",
       "    </tr>\n",
       "  </thead>\n",
       "  <tbody>\n",
       "    <tr>\n",
       "      <th>750</th>\n",
       "      <td>Give It To Me</td>\n",
       "      <td>Timbaland</td>\n",
       "    </tr>\n",
       "    <tr>\n",
       "      <th>16555</th>\n",
       "      <td>CAN'T TOUCH THIS</td>\n",
       "      <td>BIA</td>\n",
       "    </tr>\n",
       "    <tr>\n",
       "      <th>18822</th>\n",
       "      <td>Funky Friday</td>\n",
       "      <td>Dave</td>\n",
       "    </tr>\n",
       "  </tbody>\n",
       "</table>\n",
       "</div>"
      ],
      "text/plain": [
       "                  Track     Artist\n",
       "750       Give It To Me  Timbaland\n",
       "16555  CAN'T TOUCH THIS        BIA\n",
       "18822      Funky Friday       Dave"
      ]
     },
     "execution_count": 104,
     "metadata": {},
     "output_type": "execute_result"
    }
   ],
   "source": [
    "#    самый высокий балл может быть не у одной песни, \n",
    "#    поэтому сначала найдем максимальное значение \"танцевальности\", а затем найдем треки по этому значению\n",
    "max_dance = df.loc[df['Danceability'].idxmax()]['Danceability']\n",
    "df.loc[df['Danceability'] == max_dance][['Track', 'Artist']]"
   ]
  },
  {
   "cell_type": "markdown",
   "metadata": {},
   "source": [
    "Ответ: песни с максимальной танцевальностью:\n",
    "\n",
    "- \"Give It To Me\" -\tTimbaland\n",
    "\n",
    "- \"CAN'T TOUCH THIS\" - BIA\n",
    "\n",
    "- \"Funky Friday\" - Dave"
   ]
  },
  {
   "cell_type": "markdown",
   "metadata": {},
   "source": [
    "#### 7. У какой песни самый высокий показатель энергии (energy score)?"
   ]
  },
  {
   "cell_type": "markdown",
   "metadata": {},
   "source": [
    "Также ищем максимальное значение в Energy, а затем по этому значению ищем строки, содержащие его."
   ]
  },
  {
   "cell_type": "code",
   "execution_count": 106,
   "metadata": {},
   "outputs": [
    {
     "data": {
      "text/html": [
       "<div>\n",
       "<style scoped>\n",
       "    .dataframe tbody tr th:only-of-type {\n",
       "        vertical-align: middle;\n",
       "    }\n",
       "\n",
       "    .dataframe tbody tr th {\n",
       "        vertical-align: top;\n",
       "    }\n",
       "\n",
       "    .dataframe thead th {\n",
       "        text-align: right;\n",
       "    }\n",
       "</style>\n",
       "<table border=\"1\" class=\"dataframe\">\n",
       "  <thead>\n",
       "    <tr style=\"text-align: right;\">\n",
       "      <th></th>\n",
       "      <th>Track</th>\n",
       "      <th>Artist</th>\n",
       "    </tr>\n",
       "  </thead>\n",
       "  <tbody>\n",
       "    <tr>\n",
       "      <th>20581</th>\n",
       "      <td>Rain and Thunderstorm, Pt. 3</td>\n",
       "      <td>Rain Fruits Sounds</td>\n",
       "    </tr>\n",
       "    <tr>\n",
       "      <th>20582</th>\n",
       "      <td>Rain and Thunderstorm, Pt. 4</td>\n",
       "      <td>Rain Fruits Sounds</td>\n",
       "    </tr>\n",
       "    <tr>\n",
       "      <th>20585</th>\n",
       "      <td>Rain and Thunderstorm, Pt. 7</td>\n",
       "      <td>Rain Fruits Sounds</td>\n",
       "    </tr>\n",
       "    <tr>\n",
       "      <th>20586</th>\n",
       "      <td>Rain and Thunderstorm, Pt. 6</td>\n",
       "      <td>Rain Fruits Sounds</td>\n",
       "    </tr>\n",
       "    <tr>\n",
       "      <th>20587</th>\n",
       "      <td>Rain and Thunderstorm, Pt. 33</td>\n",
       "      <td>Rain Fruits Sounds</td>\n",
       "    </tr>\n",
       "    <tr>\n",
       "      <th>20652</th>\n",
       "      <td>Gentle Piano Melodies</td>\n",
       "      <td>Sleepy Penguin</td>\n",
       "    </tr>\n",
       "  </tbody>\n",
       "</table>\n",
       "</div>"
      ],
      "text/plain": [
       "                               Track              Artist\n",
       "20581   Rain and Thunderstorm, Pt. 3  Rain Fruits Sounds\n",
       "20582   Rain and Thunderstorm, Pt. 4  Rain Fruits Sounds\n",
       "20585   Rain and Thunderstorm, Pt. 7  Rain Fruits Sounds\n",
       "20586   Rain and Thunderstorm, Pt. 6  Rain Fruits Sounds\n",
       "20587  Rain and Thunderstorm, Pt. 33  Rain Fruits Sounds\n",
       "20652          Gentle Piano Melodies      Sleepy Penguin"
      ]
     },
     "execution_count": 106,
     "metadata": {},
     "output_type": "execute_result"
    }
   ],
   "source": [
    "#   аналогично предыдущемму заданию\n",
    "max_energy = df.loc[df['Energy'].idxmax()]['Energy']\n",
    "df.loc[df['Energy'] == max_energy][['Track', 'Artist']]"
   ]
  },
  {
   "cell_type": "markdown",
   "metadata": {},
   "source": [
    "Ответ: песни с максимальной энергичностью:\n",
    "- \"Rain and Thunderstorm, Pt. 3\" - Rain Fruits Sounds\n",
    "- \"Rain and Thunderstorm, Pt. 4\" - Rain Fruits Sounds\n",
    "- \"Rain and Thunderstorm, Pt. 7\" - Rain Fruits Sounds\n",
    "- \"Rain and Thunderstorm, Pt. 6\" - Rain Fruits Sounds\n",
    "- \"Rain and Thunderstorm, Pt. 33\" - Rain Fruits Sounds\n",
    "- \"Gentle Piano Melodies\" - Sleepy Penguin"
   ]
  },
  {
   "cell_type": "markdown",
   "metadata": {},
   "source": [
    "#### 8. Какая песня имеет наивысший балл valence (valence score)?"
   ]
  },
  {
   "cell_type": "markdown",
   "metadata": {},
   "source": [
    "Ищем максимальное Valence, ищем треки с максимальным Valence. "
   ]
  },
  {
   "cell_type": "code",
   "execution_count": 108,
   "metadata": {},
   "outputs": [
    {
     "data": {
      "text/html": [
       "<div>\n",
       "<style scoped>\n",
       "    .dataframe tbody tr th:only-of-type {\n",
       "        vertical-align: middle;\n",
       "    }\n",
       "\n",
       "    .dataframe tbody tr th {\n",
       "        vertical-align: top;\n",
       "    }\n",
       "\n",
       "    .dataframe thead th {\n",
       "        text-align: right;\n",
       "    }\n",
       "</style>\n",
       "<table border=\"1\" class=\"dataframe\">\n",
       "  <thead>\n",
       "    <tr style=\"text-align: right;\">\n",
       "      <th></th>\n",
       "      <th>Track</th>\n",
       "      <th>Artist</th>\n",
       "    </tr>\n",
       "  </thead>\n",
       "  <tbody>\n",
       "    <tr>\n",
       "      <th>18514</th>\n",
       "      <td>Spider Dance</td>\n",
       "      <td>Toby Fox</td>\n",
       "    </tr>\n",
       "  </tbody>\n",
       "</table>\n",
       "</div>"
      ],
      "text/plain": [
       "              Track    Artist\n",
       "18514  Spider Dance  Toby Fox"
      ]
     },
     "execution_count": 108,
     "metadata": {},
     "output_type": "execute_result"
    }
   ],
   "source": [
    "#    аналогично двум предыдущим\n",
    "max_valence = df.loc[df['Valence'].idxmax()]['Valence']\n",
    "df.loc[df['Valence'] == max_valence][['Track', 'Artist']]"
   ]
  },
  {
   "cell_type": "markdown",
   "metadata": {},
   "source": [
    "Ответ: песня с максимальным баллом Valence: \n",
    "\n",
    "\"Spider Dance\" - Toby Fox"
   ]
  },
  {
   "cell_type": "markdown",
   "metadata": {},
   "source": [
    "#### 9. Будут ли песни с более высокой «valence» (музыкальной позитивностью) более популярны как на Spotify, так и на YouTube? Чтобы ответить на этот вопрос, подсчитайте среднюю оценку «valence» для песен в верхнем квартиле «Streams» и «Views» и сравните ее с общей средней «valence»."
   ]
  },
  {
   "cell_type": "markdown",
   "metadata": {},
   "source": [
    "В принципе, алгоритм действий описан в вопросе."
   ]
  },
  {
   "cell_type": "code",
   "execution_count": 111,
   "metadata": {},
   "outputs": [
    {
     "name": "stdout",
     "output_type": "stream",
     "text": [
      "Разница для YouTube  13.3521%\n",
      "Разница для Spotify -7.5233%\n"
     ]
    }
   ],
   "source": [
    "#    создаем фрейм со значениями Valence выше верхнего квартиля\n",
    "df_75 = df.loc[df['Valence'] > df['Valence'].quantile(0.75)]\n",
    "\n",
    "#    вычисляем разницу по Stream и Views для общего среднего и значений выше верхнего квартиля (в процентах)\n",
    "diff_stream = df_75['Stream'].mean() / df['Stream'].mean() * 100 - 100\n",
    "diff_views = df_75['Views'].mean() / df['Views'].mean() * 100 - 100\n",
    "\n",
    "print(f'Разница для YouTube {diff_views: .4f}%')\n",
    "print(f'Разница для Spotify {diff_stream: .4f}%')"
   ]
  },
  {
   "cell_type": "markdown",
   "metadata": {},
   "source": [
    "Ответ: Видим, что в среднем для песен с высоким Valence количество просмотром выше примерно на 13.35%.\n",
    "Однако для Spotify песни с высоким Valence в среднем набирают меньше прослушиваний на 7.52%"
   ]
  },
  {
   "cell_type": "markdown",
   "metadata": {},
   "source": [
    "#### 10. Какой канал на YouTube имеет наибольшее количество просмотров?"
   ]
  },
  {
   "cell_type": "markdown",
   "metadata": {},
   "source": [
    "Какие-то видео из датасета могут быть с одного канала (внезапно). Поэтому нам нужно сгруппировать таблицу по признаку Channel и сложить просмотры. После этого сможем найти максимальное."
   ]
  },
  {
   "cell_type": "code",
   "execution_count": 114,
   "metadata": {},
   "outputs": [
    {
     "data": {
      "text/plain": [
       "'T-Series'"
      ]
     },
     "execution_count": 114,
     "metadata": {},
     "output_type": "execute_result"
    }
   ],
   "source": [
    "#   группируем по Channel и суммируем все Views\n",
    "df_gp_channel = df.groupby('Channel').agg({'Views': 'sum'})\n",
    "\n",
    "#   ищем максимальное число просмотров в полученном фрейме\n",
    "df_gp_channel['Views'].idxmax()"
   ]
  },
  {
   "cell_type": "markdown",
   "metadata": {},
   "source": [
    "Ответ: Канал с наибольшим количеством просмотров на YouTube имеет: \n",
    "\n",
    "\"T-Series\""
   ]
  },
  {
   "cell_type": "markdown",
   "metadata": {},
   "source": [
    "#### 11. У песни какого исполнителя больше всего комментариев на YouTube?"
   ]
  },
  {
   "cell_type": "markdown",
   "metadata": {},
   "source": [
    "Нужно найти максимальное в колонке Comments и определить исполнителя."
   ]
  },
  {
   "cell_type": "code",
   "execution_count": 116,
   "metadata": {},
   "outputs": [
    {
     "data": {
      "text/plain": [
       "Track     Dynamite\n",
       "Artist         BTS\n",
       "Name: 14561, dtype: object"
      ]
     },
     "execution_count": 116,
     "metadata": {},
     "output_type": "execute_result"
    }
   ],
   "source": [
    "#    ищем максимальное по Comments\n",
    "df.loc[df['Comments'].idxmax()][['Track', 'Artist']]"
   ]
  },
  {
   "cell_type": "markdown",
   "metadata": {},
   "source": [
    "Ответ: Больше всего комментариев на YouTube у песни: \n",
    "\n",
    "\"Dynamite\" - BTS"
   ]
  },
  {
   "cell_type": "markdown",
   "metadata": {},
   "source": [
    "#### 12. Какой самый распространенный темп (tempo) песен?"
   ]
  },
  {
   "cell_type": "markdown",
   "metadata": {},
   "source": [
    "Напрашивается сразу использовать mode на колонку Tempo. Но так как значения в Tempo вещественные, мы не получим внятный результат - необходимо округлить значения Tempo, например до целой части.\n",
    "\n",
    "Также нам потребуется избавиться от NaN'ов в колонке - round не умеет округлять NaN'ы."
   ]
  },
  {
   "cell_type": "code",
   "execution_count": 122,
   "metadata": {},
   "outputs": [
    {
     "data": {
      "text/plain": [
       "2"
      ]
     },
     "execution_count": 122,
     "metadata": {},
     "output_type": "execute_result"
    }
   ],
   "source": [
    "#    округляем Tempo до целой части, проверяем на NaN'ы\n",
    "df_round_tempo = df['Tempo']\n",
    "df_round_tempo.isnull().sum()\n"
   ]
  },
  {
   "cell_type": "code",
   "execution_count": 121,
   "metadata": {},
   "outputs": [
    {
     "data": {
      "text/plain": [
       "120"
      ]
     },
     "execution_count": 121,
     "metadata": {},
     "output_type": "execute_result"
    }
   ],
   "source": [
    "#    избавляемся от NaN'ов, округляем Tempo и ищем моду\n",
    "df_round_tempo.dropna(inplace=True)\n",
    "df_round_tempo.apply(lambda x: round(x)).mode()[0]"
   ]
  },
  {
   "cell_type": "markdown",
   "metadata": {},
   "source": [
    "Ответ: при округлугленных значениях темпа до целой части самым распространенным является: 120 bpm"
   ]
  },
  {
   "cell_type": "markdown",
   "metadata": {},
   "source": [
    "#### 13. Какая песня имеет самый высокий показатель по speechiness?"
   ]
  },
  {
   "cell_type": "markdown",
   "metadata": {},
   "source": [
    "Ищем максимальное Speechiness, по нему ищем треки."
   ]
  },
  {
   "cell_type": "code",
   "execution_count": 123,
   "metadata": {},
   "outputs": [
    {
     "data": {
      "text/html": [
       "<div>\n",
       "<style scoped>\n",
       "    .dataframe tbody tr th:only-of-type {\n",
       "        vertical-align: middle;\n",
       "    }\n",
       "\n",
       "    .dataframe tbody tr th {\n",
       "        vertical-align: top;\n",
       "    }\n",
       "\n",
       "    .dataframe thead th {\n",
       "        text-align: right;\n",
       "    }\n",
       "</style>\n",
       "<table border=\"1\" class=\"dataframe\">\n",
       "  <thead>\n",
       "    <tr style=\"text-align: right;\">\n",
       "      <th></th>\n",
       "      <th>Track</th>\n",
       "      <th>Artist</th>\n",
       "    </tr>\n",
       "  </thead>\n",
       "  <tbody>\n",
       "    <tr>\n",
       "      <th>5158</th>\n",
       "      <td>Teil 7 - Sherlock Holmes und der blinde Bettle...</td>\n",
       "      <td>Sir Arthur Conan Doyle</td>\n",
       "    </tr>\n",
       "  </tbody>\n",
       "</table>\n",
       "</div>"
      ],
      "text/plain": [
       "                                                  Track   \n",
       "5158  Teil 7 - Sherlock Holmes und der blinde Bettle...  \\\n",
       "\n",
       "                      Artist  \n",
       "5158  Sir Arthur Conan Doyle  "
      ]
     },
     "execution_count": 123,
     "metadata": {},
     "output_type": "execute_result"
    }
   ],
   "source": [
    "#    находим максимальное значение Speechiness и ищем по этому значению строки\n",
    "max_speechiness = df.loc[df['Speechiness'].idxmax()]['Speechiness']\n",
    "df.loc[df['Speechiness'] == max_speechiness][['Track', 'Artist']]"
   ]
  },
  {
   "cell_type": "code",
   "execution_count": 124,
   "metadata": {},
   "outputs": [
    {
     "data": {
      "text/plain": [
       "'Teil 7 - Sherlock Holmes und der blinde Bettler - Die neuen Abenteuer, Folge 50'"
      ]
     },
     "execution_count": 124,
     "metadata": {},
     "output_type": "execute_result"
    }
   ],
   "source": [
    "#    глянем полное название\n",
    "df.iloc[5158]['Track']"
   ]
  },
  {
   "cell_type": "markdown",
   "metadata": {},
   "source": [
    "Ответ: Самый высокий показатель по Speechiness имеет трек: \n",
    "\n",
    "\"Teil 7 - Sherlock Holmes und der blinde Bettler - Die neuen Abenteuer, Folge 50\" - Sir Arthur Conan Doyle"
   ]
  },
  {
   "cell_type": "markdown",
   "metadata": {},
   "source": [
    "#### 14. Какая самая громкая песня в наборе данных?"
   ]
  },
  {
   "cell_type": "markdown",
   "metadata": {},
   "source": [
    "Ищем максимальное в Loudness, по нему ищем треки."
   ]
  },
  {
   "cell_type": "code",
   "execution_count": 33,
   "metadata": {},
   "outputs": [
    {
     "data": {
      "text/html": [
       "<div>\n",
       "<style scoped>\n",
       "    .dataframe tbody tr th:only-of-type {\n",
       "        vertical-align: middle;\n",
       "    }\n",
       "\n",
       "    .dataframe tbody tr th {\n",
       "        vertical-align: top;\n",
       "    }\n",
       "\n",
       "    .dataframe thead th {\n",
       "        text-align: right;\n",
       "    }\n",
       "</style>\n",
       "<table border=\"1\" class=\"dataframe\">\n",
       "  <thead>\n",
       "    <tr style=\"text-align: right;\">\n",
       "      <th></th>\n",
       "      <th>Track</th>\n",
       "      <th>Artist</th>\n",
       "    </tr>\n",
       "  </thead>\n",
       "  <tbody>\n",
       "    <tr>\n",
       "      <th>9423</th>\n",
       "      <td>Siren</td>\n",
       "      <td>Sub Focus</td>\n",
       "    </tr>\n",
       "  </tbody>\n",
       "</table>\n",
       "</div>"
      ],
      "text/plain": [
       "      Track     Artist\n",
       "9423  Siren  Sub Focus"
      ]
     },
     "execution_count": 33,
     "metadata": {},
     "output_type": "execute_result"
    }
   ],
   "source": [
    "#    находим максимальное значение Loudness и ищем по этому значению строки\n",
    "max_loudness = df.loc[df['Loudness'].idxmax()]['Loudness']\n",
    "df.loc[df['Loudness'] == max_loudness][['Track', 'Artist']]"
   ]
  },
  {
   "cell_type": "markdown",
   "metadata": {},
   "source": [
    "Ответ: Самая громкая песня:\n",
    "\n",
    "\"Siren\" - Sub Focus"
   ]
  },
  {
   "cell_type": "markdown",
   "metadata": {},
   "source": [
    "#### 15. У какого артиста самый высокий средний балл danceability?"
   ]
  },
  {
   "cell_type": "markdown",
   "metadata": {},
   "source": [
    "Нужно сгруппировать по исполнителям и найти среднее их Danceability. Далее ищем максимальное и на всякий случай ищем по максимальному треки (вдруг совпадут средние по Danceability)."
   ]
  },
  {
   "cell_type": "code",
   "execution_count": 50,
   "metadata": {},
   "outputs": [
    {
     "data": {
      "text/html": [
       "<div>\n",
       "<style scoped>\n",
       "    .dataframe tbody tr th:only-of-type {\n",
       "        vertical-align: middle;\n",
       "    }\n",
       "\n",
       "    .dataframe tbody tr th {\n",
       "        vertical-align: top;\n",
       "    }\n",
       "\n",
       "    .dataframe thead th {\n",
       "        text-align: right;\n",
       "    }\n",
       "</style>\n",
       "<table border=\"1\" class=\"dataframe\">\n",
       "  <thead>\n",
       "    <tr style=\"text-align: right;\">\n",
       "      <th></th>\n",
       "      <th>Danceability</th>\n",
       "    </tr>\n",
       "    <tr>\n",
       "      <th>Artist</th>\n",
       "      <th></th>\n",
       "    </tr>\n",
       "  </thead>\n",
       "  <tbody>\n",
       "    <tr>\n",
       "      <th>Saweetie</th>\n",
       "      <td>0.8858</td>\n",
       "    </tr>\n",
       "  </tbody>\n",
       "</table>\n",
       "</div>"
      ],
      "text/plain": [
       "          Danceability\n",
       "Artist                \n",
       "Saweetie        0.8858"
      ]
     },
     "execution_count": 50,
     "metadata": {},
     "output_type": "execute_result"
    }
   ],
   "source": [
    "#    группируем по исполнителям, с помощью agg ищем среднее всех Danceability треков артиста\n",
    "df_gp_artist = df.groupby('Artist').agg({'Danceability': 'mean'})\n",
    "\n",
    "#    на всякий случай поищем максимальное Danceability среди других исполнителей\n",
    "max_dance = df_gp_artist.loc[df_gp_artist['Danceability'].idxmax()]['Danceability']\n",
    "df_gp_artist.loc[df_gp_artist['Danceability'] == max_dance]"
   ]
  },
  {
   "cell_type": "markdown",
   "metadata": {},
   "source": [
    "Ответ: Самый высокий балл Danceabillity и исполнителя:\n",
    "\n",
    "Saweetie"
   ]
  },
  {
   "cell_type": "markdown",
   "metadata": {},
   "source": [
    "#### 16. Как средний показатель «speechiness» песен зависит от «Album_type»? Песни, выпущенные как синглы, чаще содержат больше слов согласно анализу?"
   ]
  },
  {
   "cell_type": "markdown",
   "metadata": {},
   "source": [
    "Нужно вычислить отдельно среднюю Speechiness для синглов и среднюю Speechiness для треков в составе альбома. Сравнить."
   ]
  },
  {
   "cell_type": "code",
   "execution_count": 51,
   "metadata": {},
   "outputs": [
    {
     "name": "stdout",
     "output_type": "stream",
     "text": [
      "Разница между средними для синглов и альбомов:  9.4490%\n"
     ]
    }
   ],
   "source": [
    "#    отберем в отдельную таблицу треки-синглы и вычислим среднее по их Speechiness\n",
    "df_single = df.loc[df['Album_type'] == 'single']\n",
    "mean_s = df_single['Speechiness'].mean()\n",
    "\n",
    "#    отберем в отдельную таблицу треки в составе альбомов и вычислим среднее по их Speechiness\n",
    "df_album = df.loc[df['Album_type'] == 'album']\n",
    "mean_a = df_album['Speechiness'].mean()\n",
    "\n",
    "#    посчитаем разницу в процентах\n",
    "print(f'Разница между средними для синглов и альбомов: {mean_s / mean_a * 100 - 100: .4f}%')"
   ]
  },
  {
   "cell_type": "markdown",
   "metadata": {},
   "source": [
    "Ответ: Speechiness в синглах в среднем выше на 9.45% по сравнению с песнями в составе альбомов"
   ]
  },
  {
   "cell_type": "markdown",
   "metadata": {},
   "source": [
    "#### 17. Каково среднее количество прослушиваний песен, которые входят в топ 10% лучших по метрике танцевальности?"
   ]
  },
  {
   "cell_type": "markdown",
   "metadata": {},
   "source": [
    "Можно сортировать таблицу по Danceability по убыванию. Затем взять первых 10% строк - так мы получим ТОП 10% лучших по танцевальности. \n",
    "\n",
    "И далее посчитать среднюю по Stream в полученной таблице."
   ]
  },
  {
   "cell_type": "code",
   "execution_count": 55,
   "metadata": {},
   "outputs": [
    {
     "name": "stdout",
     "output_type": "stream",
     "text": [
      "Среднее количество прослушиваний по TOP-10% танцевальности: 151903593.13\n"
     ]
    }
   ],
   "source": [
    "#    создадим отдельную таблицу с отсортированными Danceability в порядке убывания \n",
    "df_sorted = df.sort_values(by='Danceability', ascending=False)\n",
    "\n",
    "#    отберем 10% самых танцевальных\n",
    "df_10_dance = df_sorted[:int(round(df.shape[0] / 10))]\n",
    "\n",
    "#    посчитаем среднее прослушиваний\n",
    "top_10_dance = df_10_dance['Stream'].mean()\n",
    "print(f'Среднее количество прослушиваний по TOP-10% танцевальности:{top_10_dance: .2f}')"
   ]
  },
  {
   "cell_type": "markdown",
   "metadata": {},
   "source": [
    "Ответ: TOP-10% песен по высокой танцевальности прослушивают в среднем почти 152 млн. раз"
   ]
  },
  {
   "cell_type": "markdown",
   "metadata": {},
   "source": [
    "#### 18. Для песен, которые входят в топ 10% лучших с точки зрения «danceability» метрики, как соотносится их средний показатель «tempo» со средним показателем «tempo» всех песен?"
   ]
  },
  {
   "cell_type": "markdown",
   "metadata": {},
   "source": [
    "Таблица ТОП-10% у нас уже есть. Нам остается только найти соотношение средних показателей Tempo общей танцевальности и высокой."
   ]
  },
  {
   "cell_type": "code",
   "execution_count": 72,
   "metadata": {},
   "outputs": [
    {
     "name": "stdout",
     "output_type": "stream",
     "text": [
      "Средний темп TOP-10% танцевальности: 115.07 bpm\n",
      "Средний темп общий: 120.64 bpm\n",
      "Разница средних между темпом TOP-10% танцевальности и общим:-4.62%\n"
     ]
    }
   ],
   "source": [
    "#    таблица df_10_dance уже создана в предыдущем задании, воспользуемся ей\n",
    "\n",
    "#    найдем разницу средних общего Tempo и Tempo в TOP-10% Danceability\n",
    "diff_tempo = (df_10_dance['Tempo'].mean() / df['Tempo'].mean()) * 100 - 100\n",
    "\n",
    "#    выводим результаты\n",
    "print(f\"Средний темп TOP-10% танцевальности:{df_10_dance['Tempo'].mean(): .2f} bpm\")\n",
    "print(f\"Средний темп общий:{df['Tempo'].mean(): .2f} bpm\")\n",
    "print(f'Разница средних между темпом TOP-10% танцевальности и общим:{diff_tempo: .2f}%')"
   ]
  },
  {
   "cell_type": "markdown",
   "metadata": {},
   "source": [
    "Ответ: Темп песен с высокой танцевальностью в среднем ниже на 4.62% по сравнению со средним темпом всех песен"
   ]
  },
  {
   "cell_type": "markdown",
   "metadata": {},
   "source": [
    "#### 19. Какова корреляция между «valence» метрикой песни и ее популярностью на YouTube (по показателю «Views») и Spotify (по показателю «Stream»)? Счастливые песни более популярны? Valency отвечает за жизнерадостность песни."
   ]
  },
  {
   "cell_type": "markdown",
   "metadata": {},
   "source": [
    "Тут просто используем метод corr для вычисления показателя корреляции между двумя колонками."
   ]
  },
  {
   "cell_type": "code",
   "execution_count": 34,
   "metadata": {},
   "outputs": [
    {
     "name": "stdout",
     "output_type": "stream",
     "text": [
      "Показатель корреляции между Valence и Views: 0.0354\n",
      "Показатель корреляции между Valence и Stream: -0.0121\n"
     ]
    }
   ],
   "source": [
    "#    воспользуемся corr для нахождения корреляции\n",
    "corr_valence_views = df['Valence']. corr(df['Views'])\n",
    "corr_valence_stream = df['Valence']. corr(df['Stream'])\n",
    "\n",
    "print(f'Показатель корреляции между Valence и Views: {corr_valence_views:.4f}')\n",
    "print(f'Показатель корреляции между Valence и Stream: {corr_valence_stream:.4f}')"
   ]
  },
  {
   "cell_type": "markdown",
   "metadata": {},
   "source": [
    "Ответ: Корреляция Valence c Views и Stream имеет показатели 0.0354 и -0.0121 соответственно. Предполагаю, что жизнерадостность песни не влияет на ее популярность."
   ]
  },
  {
   "cell_type": "markdown",
   "metadata": {},
   "source": [
    "#### 20. Какова средняя громкость песен, которые входят в топ 10% лучших по энергетике (Energy)?"
   ]
  },
  {
   "cell_type": "markdown",
   "metadata": {},
   "source": [
    "Создаем ТОП-10% лучших по Energy и в полученной таблице ищем среднее по Loudness."
   ]
  },
  {
   "cell_type": "code",
   "execution_count": 79,
   "metadata": {
    "scrolled": true
   },
   "outputs": [
    {
     "name": "stdout",
     "output_type": "stream",
     "text": [
      "Средняя громкость TOP-10% по энергичности:-6.56626 dB\n"
     ]
    }
   ],
   "source": [
    "#    создадим таблицу с отсортированными в порядке убывания значениями Energy\n",
    "df_energy = df.sort_values(by='Energy', ascending=False)\n",
    "\n",
    "#   отберем 10% самых энергичных\n",
    "df_10_energy = df_sorted[:int(round(df.shape[0] / 10))]\n",
    "\n",
    "#    посчитаем среднюю громкость от этих 10% энергичных\n",
    "mean_loudness_10 = df_10_energy['Loudness'].mean()\n",
    "print(f'Средняя громкость TOP-10% по энергичности:{mean_loudness_10:.5f} dB')"
   ]
  },
  {
   "cell_type": "markdown",
   "metadata": {},
   "source": [
    "Ответ: Средняя громкость 10% лучших по Energy песен: -6.56 dB"
   ]
  },
  {
   "cell_type": "markdown",
   "metadata": {},
   "source": [
    "#### 21. У какого исполнителя больше всего песен, которые входят в топ-10% как по просмотрам на YouTube, так и по стримам Spotify?"
   ]
  },
  {
   "cell_type": "markdown",
   "metadata": {},
   "source": [
    "Создадим две таблицы: ТОП-10% по Views и ТОП-10% по Stream. Затем соединяем их через merge по признаку 'Unnamed: 0'. Значения в 'Unnamed: 0' уникальны, вероятно используется в качестве ID. Объединение таблиц будет по принципу inner, то есть в объединенной таблице будут только те строки, которые есть в каждой из объединяемых таблицах. То есть, у нас будут песни, которые входят в топ-10% как по просмотрам на YouTube, так и по стримам Spotify.\n",
    "\n",
    "Посчитать количество вхождений исполнителей можно через value_counts."
   ]
  },
  {
   "cell_type": "code",
   "execution_count": 91,
   "metadata": {},
   "outputs": [
    {
     "data": {
      "text/plain": [
       "1147     8.079649e+09\n",
       "365      8.079647e+09\n",
       "12452    5.908398e+09\n",
       "14580    5.773798e+09\n",
       "12469    5.773797e+09\n",
       "Name: Views, dtype: float64"
      ]
     },
     "execution_count": 91,
     "metadata": {},
     "output_type": "execute_result"
    }
   ],
   "source": [
    "#    создадим таблицу с отсортированными по убыванию Views\n",
    "df_views = df.sort_values(by='Views', ascending=False)\n",
    "\n",
    "#    отберем 10% самых просматриваемых\n",
    "df_10_views = df_views[:int(round(df.shape[0] / 10))]\n",
    "df_10_views['Views'].head()"
   ]
  },
  {
   "cell_type": "code",
   "execution_count": 92,
   "metadata": {},
   "outputs": [
    {
     "data": {
      "text/plain": [
       "15250    3.386520e+09\n",
       "12452    3.362005e+09\n",
       "19186    2.634013e+09\n",
       "17937    2.594927e+09\n",
       "17445    2.538330e+09\n",
       "Name: Stream, dtype: float64"
      ]
     },
     "execution_count": 92,
     "metadata": {},
     "output_type": "execute_result"
    }
   ],
   "source": [
    "#    создадим таблицу с отсортированными по убыванию Stream\n",
    "df_stream = df.sort_values(by='Stream', ascending=False)\n",
    "\n",
    "#    отберем 10% самых прослушиваемых\n",
    "df_10_stream = df_stream[:int(round(df.shape[0] / 10))]\n",
    "df_10_stream['Stream'].head()"
   ]
  },
  {
   "cell_type": "code",
   "execution_count": 94,
   "metadata": {},
   "outputs": [
    {
     "data": {
      "text/html": [
       "<div>\n",
       "<style scoped>\n",
       "    .dataframe tbody tr th:only-of-type {\n",
       "        vertical-align: middle;\n",
       "    }\n",
       "\n",
       "    .dataframe tbody tr th {\n",
       "        vertical-align: top;\n",
       "    }\n",
       "\n",
       "    .dataframe thead th {\n",
       "        text-align: right;\n",
       "    }\n",
       "</style>\n",
       "<table border=\"1\" class=\"dataframe\">\n",
       "  <thead>\n",
       "    <tr style=\"text-align: right;\">\n",
       "      <th></th>\n",
       "      <th>Unnamed: 0</th>\n",
       "      <th>Artist_x</th>\n",
       "      <th>Url_spotify_x</th>\n",
       "      <th>Track_x</th>\n",
       "      <th>Album_x</th>\n",
       "      <th>Album_type_x</th>\n",
       "      <th>Uri_x</th>\n",
       "      <th>Danceability_x</th>\n",
       "      <th>Energy_x</th>\n",
       "      <th>Key_x</th>\n",
       "      <th>...</th>\n",
       "      <th>Url_youtube_y</th>\n",
       "      <th>Title_y</th>\n",
       "      <th>Channel_y</th>\n",
       "      <th>Views_y</th>\n",
       "      <th>Likes_y</th>\n",
       "      <th>Comments_y</th>\n",
       "      <th>Description_y</th>\n",
       "      <th>Licensed_y</th>\n",
       "      <th>official_video_y</th>\n",
       "      <th>Stream_y</th>\n",
       "    </tr>\n",
       "  </thead>\n",
       "  <tbody>\n",
       "    <tr>\n",
       "      <th>0</th>\n",
       "      <td>1147</td>\n",
       "      <td>Luis Fonsi</td>\n",
       "      <td>https://open.spotify.com/artist/4V8Sr092TqfHkf...</td>\n",
       "      <td>Despacito</td>\n",
       "      <td>VIDA</td>\n",
       "      <td>album</td>\n",
       "      <td>spotify:track:6habFhsOp2NvshLv26DqMb</td>\n",
       "      <td>0.655</td>\n",
       "      <td>0.797</td>\n",
       "      <td>2.0</td>\n",
       "      <td>...</td>\n",
       "      <td>https://www.youtube.com/watch?v=kJQP7kiw5Fk</td>\n",
       "      <td>Luis Fonsi - Despacito ft. Daddy Yankee</td>\n",
       "      <td>LuisFonsiVEVO</td>\n",
       "      <td>8.079649e+09</td>\n",
       "      <td>50788652.0</td>\n",
       "      <td>4252791.0</td>\n",
       "      <td>“Despacito” disponible ya en todas las platafo...</td>\n",
       "      <td>True</td>\n",
       "      <td>True</td>\n",
       "      <td>1.506598e+09</td>\n",
       "    </tr>\n",
       "    <tr>\n",
       "      <th>1</th>\n",
       "      <td>365</td>\n",
       "      <td>Daddy Yankee</td>\n",
       "      <td>https://open.spotify.com/artist/4VMYDCV2IEDYJA...</td>\n",
       "      <td>Despacito</td>\n",
       "      <td>VIDA</td>\n",
       "      <td>album</td>\n",
       "      <td>spotify:track:6habFhsOp2NvshLv26DqMb</td>\n",
       "      <td>0.655</td>\n",
       "      <td>0.797</td>\n",
       "      <td>2.0</td>\n",
       "      <td>...</td>\n",
       "      <td>https://www.youtube.com/watch?v=kJQP7kiw5Fk</td>\n",
       "      <td>Luis Fonsi - Despacito ft. Daddy Yankee</td>\n",
       "      <td>LuisFonsiVEVO</td>\n",
       "      <td>8.079647e+09</td>\n",
       "      <td>50788626.0</td>\n",
       "      <td>4252791.0</td>\n",
       "      <td>“Despacito” disponible ya en todas las platafo...</td>\n",
       "      <td>True</td>\n",
       "      <td>True</td>\n",
       "      <td>1.506598e+09</td>\n",
       "    </tr>\n",
       "    <tr>\n",
       "      <th>2</th>\n",
       "      <td>12452</td>\n",
       "      <td>Ed Sheeran</td>\n",
       "      <td>https://open.spotify.com/artist/6eUKZXaKkcviH0...</td>\n",
       "      <td>Shape of You</td>\n",
       "      <td>÷ (Deluxe)</td>\n",
       "      <td>album</td>\n",
       "      <td>spotify:track:7qiZfU4dY1lWllzX7mPBI3</td>\n",
       "      <td>0.825</td>\n",
       "      <td>0.652</td>\n",
       "      <td>1.0</td>\n",
       "      <td>...</td>\n",
       "      <td>https://www.youtube.com/watch?v=JGwWNGJdvx8</td>\n",
       "      <td>Ed Sheeran - Shape of You (Official Music Video)</td>\n",
       "      <td>Ed Sheeran</td>\n",
       "      <td>5.908398e+09</td>\n",
       "      <td>31047780.0</td>\n",
       "      <td>1130327.0</td>\n",
       "      <td>The official music video for Ed Sheeran - Shap...</td>\n",
       "      <td>True</td>\n",
       "      <td>True</td>\n",
       "      <td>3.362005e+09</td>\n",
       "    </tr>\n",
       "    <tr>\n",
       "      <th>3</th>\n",
       "      <td>14580</td>\n",
       "      <td>Charlie Puth</td>\n",
       "      <td>https://open.spotify.com/artist/6VuMaDnrHyPL1p...</td>\n",
       "      <td>See You Again (feat. Charlie Puth)</td>\n",
       "      <td>See You Again (feat. Charlie Puth)</td>\n",
       "      <td>single</td>\n",
       "      <td>spotify:track:2JzZzZUQj3Qff7wapcbKjc</td>\n",
       "      <td>0.689</td>\n",
       "      <td>0.481</td>\n",
       "      <td>10.0</td>\n",
       "      <td>...</td>\n",
       "      <td>https://www.youtube.com/watch?v=RgKAFK5djSk</td>\n",
       "      <td>Wiz Khalifa - See You Again ft. Charlie Puth [...</td>\n",
       "      <td>Wiz Khalifa Music</td>\n",
       "      <td>5.773798e+09</td>\n",
       "      <td>40147674.0</td>\n",
       "      <td>2127346.0</td>\n",
       "      <td>Download the new Furious 7 Soundtrack Deluxe V...</td>\n",
       "      <td>True</td>\n",
       "      <td>True</td>\n",
       "      <td>1.521255e+09</td>\n",
       "    </tr>\n",
       "    <tr>\n",
       "      <th>4</th>\n",
       "      <td>12469</td>\n",
       "      <td>Wiz Khalifa</td>\n",
       "      <td>https://open.spotify.com/artist/137W8MRPWKqSmr...</td>\n",
       "      <td>See You Again (feat. Charlie Puth)</td>\n",
       "      <td>See You Again (feat. Charlie Puth)</td>\n",
       "      <td>single</td>\n",
       "      <td>spotify:track:2JzZzZUQj3Qff7wapcbKjc</td>\n",
       "      <td>0.689</td>\n",
       "      <td>0.481</td>\n",
       "      <td>10.0</td>\n",
       "      <td>...</td>\n",
       "      <td>https://www.youtube.com/watch?v=RgKAFK5djSk</td>\n",
       "      <td>Wiz Khalifa - See You Again ft. Charlie Puth [...</td>\n",
       "      <td>Wiz Khalifa Music</td>\n",
       "      <td>5.773797e+09</td>\n",
       "      <td>40147618.0</td>\n",
       "      <td>2127345.0</td>\n",
       "      <td>Download the new Furious 7 Soundtrack Deluxe V...</td>\n",
       "      <td>True</td>\n",
       "      <td>True</td>\n",
       "      <td>1.521255e+09</td>\n",
       "    </tr>\n",
       "    <tr>\n",
       "      <th>...</th>\n",
       "      <td>...</td>\n",
       "      <td>...</td>\n",
       "      <td>...</td>\n",
       "      <td>...</td>\n",
       "      <td>...</td>\n",
       "      <td>...</td>\n",
       "      <td>...</td>\n",
       "      <td>...</td>\n",
       "      <td>...</td>\n",
       "      <td>...</td>\n",
       "      <td>...</td>\n",
       "      <td>...</td>\n",
       "      <td>...</td>\n",
       "      <td>...</td>\n",
       "      <td>...</td>\n",
       "      <td>...</td>\n",
       "      <td>...</td>\n",
       "      <td>...</td>\n",
       "      <td>...</td>\n",
       "      <td>...</td>\n",
       "      <td>...</td>\n",
       "    </tr>\n",
       "    <tr>\n",
       "      <th>1090</th>\n",
       "      <td>12038</td>\n",
       "      <td>Paramore</td>\n",
       "      <td>https://open.spotify.com/artist/74XFHRwlV6OrjE...</td>\n",
       "      <td>Still into You</td>\n",
       "      <td>Paramore</td>\n",
       "      <td>album</td>\n",
       "      <td>spotify:track:1yjY7rpaAQvKwpdUliHx0d</td>\n",
       "      <td>0.602</td>\n",
       "      <td>0.923</td>\n",
       "      <td>5.0</td>\n",
       "      <td>...</td>\n",
       "      <td>https://www.youtube.com/watch?v=OblL026SvD4</td>\n",
       "      <td>Paramore: Still Into You [OFFICIAL VIDEO]</td>\n",
       "      <td>Paramore</td>\n",
       "      <td>2.283689e+08</td>\n",
       "      <td>1963185.0</td>\n",
       "      <td>84568.0</td>\n",
       "      <td>Paramore's music video for 'Still Into You' fr...</td>\n",
       "      <td>True</td>\n",
       "      <td>True</td>\n",
       "      <td>5.451753e+08</td>\n",
       "    </tr>\n",
       "    <tr>\n",
       "      <th>1091</th>\n",
       "      <td>18809</td>\n",
       "      <td>Niall Horan</td>\n",
       "      <td>https://open.spotify.com/artist/1Hsdzj7Dlq2I7t...</td>\n",
       "      <td>Slow Hands</td>\n",
       "      <td>Flicker (Deluxe)</td>\n",
       "      <td>album</td>\n",
       "      <td>spotify:track:2cOUlop2ZakjOKe4WinesN</td>\n",
       "      <td>0.735</td>\n",
       "      <td>0.425</td>\n",
       "      <td>0.0</td>\n",
       "      <td>...</td>\n",
       "      <td>https://www.youtube.com/watch?v=nBmNcLBaPUE</td>\n",
       "      <td>Niall Horan - Slow Hands (Official Lyric Video)</td>\n",
       "      <td>NiallHoranVEVO</td>\n",
       "      <td>2.271514e+08</td>\n",
       "      <td>2012772.0</td>\n",
       "      <td>46142.0</td>\n",
       "      <td>Get Niall's album 'Flicker' everywhere now: ht...</td>\n",
       "      <td>True</td>\n",
       "      <td>True</td>\n",
       "      <td>8.091415e+08</td>\n",
       "    </tr>\n",
       "    <tr>\n",
       "      <th>1092</th>\n",
       "      <td>13700</td>\n",
       "      <td>The Script</td>\n",
       "      <td>https://open.spotify.com/artist/3AQRLZ9PuTAozP...</td>\n",
       "      <td>Superheroes</td>\n",
       "      <td>No Sound Without Silence</td>\n",
       "      <td>album</td>\n",
       "      <td>spotify:track:37sINbJZcFdHFAsVNsPq1i</td>\n",
       "      <td>0.490</td>\n",
       "      <td>0.885</td>\n",
       "      <td>3.0</td>\n",
       "      <td>...</td>\n",
       "      <td>https://www.youtube.com/watch?v=WIm1GgfRz6M</td>\n",
       "      <td>The Script - Superheroes (Official Video)</td>\n",
       "      <td>TheScriptVEVO</td>\n",
       "      <td>2.263667e+08</td>\n",
       "      <td>1726833.0</td>\n",
       "      <td>43075.0</td>\n",
       "      <td>‘Superheroes’ is the first single from the new...</td>\n",
       "      <td>True</td>\n",
       "      <td>True</td>\n",
       "      <td>5.179478e+08</td>\n",
       "    </tr>\n",
       "    <tr>\n",
       "      <th>1093</th>\n",
       "      <td>13419</td>\n",
       "      <td>Soundgarden</td>\n",
       "      <td>https://open.spotify.com/artist/5xUf6j4upBrXZP...</td>\n",
       "      <td>Black Hole Sun</td>\n",
       "      <td>Superunknown (Deluxe Edition)</td>\n",
       "      <td>album</td>\n",
       "      <td>spotify:track:2EoOZnxNgtmZaD8uUmz2nD</td>\n",
       "      <td>0.350</td>\n",
       "      <td>0.828</td>\n",
       "      <td>6.0</td>\n",
       "      <td>...</td>\n",
       "      <td>https://www.youtube.com/watch?v=3mbBbFH9fAg</td>\n",
       "      <td>Soundgarden - Black Hole Sun</td>\n",
       "      <td>SoundgardenVEVO</td>\n",
       "      <td>2.255350e+08</td>\n",
       "      <td>1401430.0</td>\n",
       "      <td>72142.0</td>\n",
       "      <td>REMASTERED IN HD!\\nSoundgarden's official musi...</td>\n",
       "      <td>True</td>\n",
       "      <td>True</td>\n",
       "      <td>5.137025e+08</td>\n",
       "    </tr>\n",
       "    <tr>\n",
       "      <th>1094</th>\n",
       "      <td>14070</td>\n",
       "      <td>Justin Bieber</td>\n",
       "      <td>https://open.spotify.com/artist/1uNFoZAHBGtllm...</td>\n",
       "      <td>Ghost</td>\n",
       "      <td>Justice</td>\n",
       "      <td>album</td>\n",
       "      <td>spotify:track:6I3mqTwhRpn34SLVafSH7G</td>\n",
       "      <td>0.601</td>\n",
       "      <td>0.741</td>\n",
       "      <td>2.0</td>\n",
       "      <td>...</td>\n",
       "      <td>https://www.youtube.com/watch?v=Fp8msa5uYsc</td>\n",
       "      <td>Justin Bieber - Ghost</td>\n",
       "      <td>JustinBieberVEVO</td>\n",
       "      <td>2.245797e+08</td>\n",
       "      <td>2888687.0</td>\n",
       "      <td>99758.0</td>\n",
       "      <td>Justice: The Complete Edition - https://Justin...</td>\n",
       "      <td>True</td>\n",
       "      <td>True</td>\n",
       "      <td>9.413727e+08</td>\n",
       "    </tr>\n",
       "  </tbody>\n",
       "</table>\n",
       "<p>1095 rows × 55 columns</p>\n",
       "</div>"
      ],
      "text/plain": [
       "      Unnamed: 0       Artist_x   \n",
       "0           1147     Luis Fonsi  \\\n",
       "1            365   Daddy Yankee   \n",
       "2          12452     Ed Sheeran   \n",
       "3          14580   Charlie Puth   \n",
       "4          12469    Wiz Khalifa   \n",
       "...          ...            ...   \n",
       "1090       12038       Paramore   \n",
       "1091       18809    Niall Horan   \n",
       "1092       13700     The Script   \n",
       "1093       13419    Soundgarden   \n",
       "1094       14070  Justin Bieber   \n",
       "\n",
       "                                          Url_spotify_x   \n",
       "0     https://open.spotify.com/artist/4V8Sr092TqfHkf...  \\\n",
       "1     https://open.spotify.com/artist/4VMYDCV2IEDYJA...   \n",
       "2     https://open.spotify.com/artist/6eUKZXaKkcviH0...   \n",
       "3     https://open.spotify.com/artist/6VuMaDnrHyPL1p...   \n",
       "4     https://open.spotify.com/artist/137W8MRPWKqSmr...   \n",
       "...                                                 ...   \n",
       "1090  https://open.spotify.com/artist/74XFHRwlV6OrjE...   \n",
       "1091  https://open.spotify.com/artist/1Hsdzj7Dlq2I7t...   \n",
       "1092  https://open.spotify.com/artist/3AQRLZ9PuTAozP...   \n",
       "1093  https://open.spotify.com/artist/5xUf6j4upBrXZP...   \n",
       "1094  https://open.spotify.com/artist/1uNFoZAHBGtllm...   \n",
       "\n",
       "                                 Track_x                             Album_x   \n",
       "0                              Despacito                                VIDA  \\\n",
       "1                              Despacito                                VIDA   \n",
       "2                           Shape of You                          ÷ (Deluxe)   \n",
       "3     See You Again (feat. Charlie Puth)  See You Again (feat. Charlie Puth)   \n",
       "4     See You Again (feat. Charlie Puth)  See You Again (feat. Charlie Puth)   \n",
       "...                                  ...                                 ...   \n",
       "1090                      Still into You                            Paramore   \n",
       "1091                          Slow Hands                    Flicker (Deluxe)   \n",
       "1092                         Superheroes            No Sound Without Silence   \n",
       "1093                      Black Hole Sun       Superunknown (Deluxe Edition)   \n",
       "1094                               Ghost                             Justice   \n",
       "\n",
       "     Album_type_x                                 Uri_x  Danceability_x   \n",
       "0           album  spotify:track:6habFhsOp2NvshLv26DqMb           0.655  \\\n",
       "1           album  spotify:track:6habFhsOp2NvshLv26DqMb           0.655   \n",
       "2           album  spotify:track:7qiZfU4dY1lWllzX7mPBI3           0.825   \n",
       "3          single  spotify:track:2JzZzZUQj3Qff7wapcbKjc           0.689   \n",
       "4          single  spotify:track:2JzZzZUQj3Qff7wapcbKjc           0.689   \n",
       "...           ...                                   ...             ...   \n",
       "1090        album  spotify:track:1yjY7rpaAQvKwpdUliHx0d           0.602   \n",
       "1091        album  spotify:track:2cOUlop2ZakjOKe4WinesN           0.735   \n",
       "1092        album  spotify:track:37sINbJZcFdHFAsVNsPq1i           0.490   \n",
       "1093        album  spotify:track:2EoOZnxNgtmZaD8uUmz2nD           0.350   \n",
       "1094        album  spotify:track:6I3mqTwhRpn34SLVafSH7G           0.601   \n",
       "\n",
       "      Energy_x  Key_x  ...                                Url_youtube_y   \n",
       "0        0.797    2.0  ...  https://www.youtube.com/watch?v=kJQP7kiw5Fk  \\\n",
       "1        0.797    2.0  ...  https://www.youtube.com/watch?v=kJQP7kiw5Fk   \n",
       "2        0.652    1.0  ...  https://www.youtube.com/watch?v=JGwWNGJdvx8   \n",
       "3        0.481   10.0  ...  https://www.youtube.com/watch?v=RgKAFK5djSk   \n",
       "4        0.481   10.0  ...  https://www.youtube.com/watch?v=RgKAFK5djSk   \n",
       "...        ...    ...  ...                                          ...   \n",
       "1090     0.923    5.0  ...  https://www.youtube.com/watch?v=OblL026SvD4   \n",
       "1091     0.425    0.0  ...  https://www.youtube.com/watch?v=nBmNcLBaPUE   \n",
       "1092     0.885    3.0  ...  https://www.youtube.com/watch?v=WIm1GgfRz6M   \n",
       "1093     0.828    6.0  ...  https://www.youtube.com/watch?v=3mbBbFH9fAg   \n",
       "1094     0.741    2.0  ...  https://www.youtube.com/watch?v=Fp8msa5uYsc   \n",
       "\n",
       "                                                Title_y          Channel_y   \n",
       "0               Luis Fonsi - Despacito ft. Daddy Yankee      LuisFonsiVEVO  \\\n",
       "1               Luis Fonsi - Despacito ft. Daddy Yankee      LuisFonsiVEVO   \n",
       "2      Ed Sheeran - Shape of You (Official Music Video)         Ed Sheeran   \n",
       "3     Wiz Khalifa - See You Again ft. Charlie Puth [...  Wiz Khalifa Music   \n",
       "4     Wiz Khalifa - See You Again ft. Charlie Puth [...  Wiz Khalifa Music   \n",
       "...                                                 ...                ...   \n",
       "1090          Paramore: Still Into You [OFFICIAL VIDEO]           Paramore   \n",
       "1091    Niall Horan - Slow Hands (Official Lyric Video)     NiallHoranVEVO   \n",
       "1092          The Script - Superheroes (Official Video)      TheScriptVEVO   \n",
       "1093                       Soundgarden - Black Hole Sun    SoundgardenVEVO   \n",
       "1094                              Justin Bieber - Ghost   JustinBieberVEVO   \n",
       "\n",
       "           Views_y     Likes_y  Comments_y   \n",
       "0     8.079649e+09  50788652.0   4252791.0  \\\n",
       "1     8.079647e+09  50788626.0   4252791.0   \n",
       "2     5.908398e+09  31047780.0   1130327.0   \n",
       "3     5.773798e+09  40147674.0   2127346.0   \n",
       "4     5.773797e+09  40147618.0   2127345.0   \n",
       "...            ...         ...         ...   \n",
       "1090  2.283689e+08   1963185.0     84568.0   \n",
       "1091  2.271514e+08   2012772.0     46142.0   \n",
       "1092  2.263667e+08   1726833.0     43075.0   \n",
       "1093  2.255350e+08   1401430.0     72142.0   \n",
       "1094  2.245797e+08   2888687.0     99758.0   \n",
       "\n",
       "                                          Description_y  Licensed_y   \n",
       "0     “Despacito” disponible ya en todas las platafo...        True  \\\n",
       "1     “Despacito” disponible ya en todas las platafo...        True   \n",
       "2     The official music video for Ed Sheeran - Shap...        True   \n",
       "3     Download the new Furious 7 Soundtrack Deluxe V...        True   \n",
       "4     Download the new Furious 7 Soundtrack Deluxe V...        True   \n",
       "...                                                 ...         ...   \n",
       "1090  Paramore's music video for 'Still Into You' fr...        True   \n",
       "1091  Get Niall's album 'Flicker' everywhere now: ht...        True   \n",
       "1092  ‘Superheroes’ is the first single from the new...        True   \n",
       "1093  REMASTERED IN HD!\\nSoundgarden's official musi...        True   \n",
       "1094  Justice: The Complete Edition - https://Justin...        True   \n",
       "\n",
       "     official_video_y      Stream_y  \n",
       "0                True  1.506598e+09  \n",
       "1                True  1.506598e+09  \n",
       "2                True  3.362005e+09  \n",
       "3                True  1.521255e+09  \n",
       "4                True  1.521255e+09  \n",
       "...               ...           ...  \n",
       "1090             True  5.451753e+08  \n",
       "1091             True  8.091415e+08  \n",
       "1092             True  5.179478e+08  \n",
       "1093             True  5.137025e+08  \n",
       "1094             True  9.413727e+08  \n",
       "\n",
       "[1095 rows x 55 columns]"
      ]
     },
     "execution_count": 94,
     "metadata": {},
     "output_type": "execute_result"
    }
   ],
   "source": [
    "#    соединим наши таблицы так, чтобы в нее попали уникальные строки (inner join), \n",
    "#    таким образом, получим таблицу с песнями, которые в топе и youtube, и spotify\n",
    "df_10_views_stream = df_10_views.merge(df_10_stream, on='Unnamed: 0')\n",
    "df_10_views_stream"
   ]
  },
  {
   "cell_type": "code",
   "execution_count": 95,
   "metadata": {},
   "outputs": [
    {
     "data": {
      "text/plain": [
       "Artist_x\n",
       "Calvin Harris      9\n",
       "Dua Lipa           9\n",
       "Coldplay           9\n",
       "Ariana Grande      9\n",
       "Imagine Dragons    8\n",
       "                  ..\n",
       "Kodak Black        1\n",
       "AURORA             1\n",
       "The Killers        1\n",
       "Vance Joy          1\n",
       "Soundgarden        1\n",
       "Name: count, Length: 480, dtype: int64"
      ]
     },
     "execution_count": 95,
     "metadata": {},
     "output_type": "execute_result"
    }
   ],
   "source": [
    "#    теперь в полученной таблице через value_counts посчитаем уникальных исполнителей и их количество\n",
    "df_10_views_stream['Artist_x'].value_counts()"
   ]
  },
  {
   "cell_type": "markdown",
   "metadata": {},
   "source": [
    "Ответ: Больше всего песен, которые входят в топ-10% как по просмотрам на YouTube, так и по стримам Spotify, имеет:\n",
    "\n",
    "- Calvin Harris      \n",
    "- Dua Lipa           \n",
    "- Coldplay           \n",
    "- Ariana Grande      "
   ]
  },
  {
   "cell_type": "markdown",
   "metadata": {},
   "source": [
    "#### 22. Какова корреляция между «energy» песни и ее «loudness»?"
   ]
  },
  {
   "cell_type": "markdown",
   "metadata": {},
   "source": [
    "Используем corr."
   ]
  },
  {
   "cell_type": "code",
   "execution_count": 63,
   "metadata": {},
   "outputs": [
    {
     "data": {
      "text/plain": [
       "0.7448445555528459"
      ]
     },
     "execution_count": 63,
     "metadata": {},
     "output_type": "execute_result"
    }
   ],
   "source": [
    "#    пользуемся методом corr для значений Energy и Loudness\n",
    "df['Energy'].corr(df['Loudness'])"
   ]
  },
  {
   "cell_type": "markdown",
   "metadata": {},
   "source": [
    "Ответ: Коррелиция между Energy и Loudness сильная. Вероятно, связано с тем, что при расчете метрики Energy используется метрика Loudness. Также в описании метрики Energy видим: \"Perceptual features contributing to this attribute include dynamic range, perceived *loudness*, timbre, onset rate, and general entropy.\""
   ]
  },
  {
   "cell_type": "markdown",
   "metadata": {},
   "source": [
    "#### 23. Каково среднее количество лайков на YouTube для песен, которые находятся в верхнем квартиле (25%) и как это соотносится с общим средним показателем?"
   ]
  },
  {
   "cell_type": "markdown",
   "metadata": {},
   "source": [
    "Не совсем понятно, про верхний квартиль какого признака идет речь, поэтому я решил пройти по всем возможным признакам и сделать какие-то выводы.\n",
    "\n",
    "Нужно сформировать таблицу, в котором будут лежат значения больше верхнего квартиля признака.\n",
    "Затем сравнить средние лайков в этой таблице и лайков исходной таблицы."
   ]
  },
  {
   "cell_type": "code",
   "execution_count": 103,
   "metadata": {},
   "outputs": [
    {
     "name": "stdout",
     "output_type": "stream",
     "text": [
      "Разница для Likes в верхнем квартиле Danceability: 33.75%\n",
      "Разница для Likes в верхнем квартиле Energy: 3.74%\n",
      "Разница для Likes в верхнем квартиле Loudness: 47.20%\n",
      "Разница для Likes в верхнем квартиле Speechiness: 12.90%\n",
      "Разница для Likes в верхнем квартиле Acousticness:-34.37%\n",
      "Разница для Likes в верхнем квартиле Instrumentalness:-37.75%\n",
      "Разница для Likes в верхнем квартиле Liveness:-7.11%\n",
      "Разница для Likes в верхнем квартиле Valence:-0.75%\n",
      "Разница для Likes в верхнем квартиле Tempo:-3.57%\n",
      "Разница для Likes в верхнем квартиле Duration_ms:-9.26%\n",
      "Разница для Likes в верхнем квартиле Views: 237.55%\n",
      "Разница для Likes в верхнем квартиле Likes: 247.89%\n",
      "Разница для Likes в верхнем квартиле Comments: 239.34%\n",
      "Разница для Likes в верхнем квартиле Stream: 182.34%\n"
     ]
    }
   ],
   "source": [
    "#    лист с числовыми признаками\n",
    "list_features = ['Danceability',\n",
    "                 'Energy',\n",
    "                 'Loudness',\n",
    "                 'Speechiness',\n",
    "                 'Acousticness',\n",
    "                 'Instrumentalness',\n",
    "                 'Liveness',\n",
    "                 'Valence',\n",
    "                 'Tempo',\n",
    "                 'Duration_ms',\n",
    "                 'Views',\n",
    "                 'Likes',\n",
    "                 'Comments',\n",
    "                 'Stream']\n",
    "\n",
    "#    в цикле:\n",
    "#    формируем таблицу с верхним квартилем по признаку,\n",
    "#    вычисляем разницу в процентах между средними верхнеквартильным и общим\n",
    "for feature in list_features:\n",
    "    df_75 = df.loc[df[feature] > df[feature].quantile(0.75)]\n",
    "    diff = df_75['Likes'].mean() / df['Likes'].mean() * 100 - 100\n",
    "    print(f'Разница для Likes в верхнем квартиле {feature}:{diff: .2f}%')"
   ]
  },
  {
   "cell_type": "markdown",
   "metadata": {},
   "source": [
    "Ответ: Из полученных расчетов наверное самые интересные - Views, Likes, Comments. Среднее по Likes в верхнем квантиле для Views, Likes, Comments больше общего среднего по Likes на 237.55%, 247.89% и 239.34% соответственно"
   ]
  },
  {
   "cell_type": "markdown",
   "metadata": {},
   "source": [
    "#### 24. Есть ли существенная разница в средней «valence» метрикой для песен, выпущенных как синглы, по сравнению с песнями, выпущенными в виде альбома?"
   ]
  },
  {
   "cell_type": "markdown",
   "metadata": {},
   "source": [
    "Ищем средние Valence для песен типа сингл и альбомных, сравниваем эти значения."
   ]
  },
  {
   "cell_type": "code",
   "execution_count": 78,
   "metadata": {},
   "outputs": [
    {
     "name": "stdout",
     "output_type": "stream",
     "text": [
      "Разница Valence между Single и Album: 0.06702%\n"
     ]
    }
   ],
   "source": [
    "#    через loc выбираем строки по условию single или album, считаем среднее\n",
    "mean_val_single = df.loc[df['Album_type'] == 'single']['Valence'].mean()\n",
    "mean_val_album = df.loc[df['Album_type'] == 'album']['Valence'].mean()\n",
    "\n",
    "print(f'Разница Valence между Single и Album:{mean_val_single / mean_val_album * 100 - 100: .5f}%')"
   ]
  },
  {
   "cell_type": "markdown",
   "metadata": {},
   "source": [
    "Ответ: Среднее Valence в синглах и среднее Valence в составе альбома отличаются несущестенно. Разница составляет примерно 0.067%"
   ]
  },
  {
   "cell_type": "markdown",
   "metadata": {},
   "source": [
    "#### 25. Каково среднее количество «комментариев» на YouTube для песен с показателем «speechiness» выше 0,66 (что указывает на большое количество произнесенных слов) и как это соотносится с общим средним показателем?"
   ]
  },
  {
   "cell_type": "markdown",
   "metadata": {},
   "source": [
    "Формируем таблицу со значениями Speechiness > 0.66, ищем в ней среднее по Comments. Сравниваем это среднее с общим средним Comments."
   ]
  },
  {
   "cell_type": "code",
   "execution_count": 105,
   "metadata": {},
   "outputs": [
    {
     "name": "stdout",
     "output_type": "stream",
     "text": [
      "Разница Comments между высокой Speechiness и общей:-98.78%\n"
     ]
    }
   ],
   "source": [
    "#    ищем общую среднюю по Comments и среднню по Comments с высокой Speechiness\n",
    "mean_comments = df['Comments'].mean()\n",
    "mean_comments_high_speech = df.loc[df['Speechiness'] > 0.66]['Comments'].mean()\n",
    "\n",
    "print(f'Разница Comments между высокой Speechiness и общей:{mean_comments_high_speech / mean_comments * 100 - 100: .2f}%')"
   ]
  },
  {
   "cell_type": "markdown",
   "metadata": {},
   "source": [
    "Ответ: Количество комментариев с высоким показателем Speechiness (>0.66) в среднем меньше общего среднего комментариев на 98.78%"
   ]
  },
  {
   "cell_type": "code",
   "execution_count": null,
   "metadata": {},
   "outputs": [],
   "source": []
  }
 ],
 "metadata": {
  "kernelspec": {
   "display_name": "Python 3 (ipykernel)",
   "language": "python",
   "name": "python3"
  },
  "language_info": {
   "codemirror_mode": {
    "name": "ipython",
    "version": 3
   },
   "file_extension": ".py",
   "mimetype": "text/x-python",
   "name": "python",
   "nbconvert_exporter": "python",
   "pygments_lexer": "ipython3",
   "version": "3.10.6"
  }
 },
 "nbformat": 4,
 "nbformat_minor": 1
}
